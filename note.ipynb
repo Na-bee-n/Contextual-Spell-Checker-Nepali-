{
 "cells": [
  {
   "cell_type": "code",
   "execution_count": 1,
   "metadata": {},
   "outputs": [],
   "source": [
    "import pandas as pd\n",
    "import numpy as np\n",
    "import nltk\n",
    "from nltk.tokenize import word_tokenize,sent_tokenize\n",
    "import re "
   ]
  },
  {
   "cell_type": "code",
   "execution_count": 4,
   "metadata": {},
   "outputs": [],
   "source": [
    "nepali_numerals = ['०', '१', '२', '३', '४', '५', '६', '७', '८', '९']"
   ]
  },
  {
   "cell_type": "code",
   "execution_count": 5,
   "metadata": {},
   "outputs": [
    {
     "data": {
      "text/plain": [
       "255"
      ]
     },
     "execution_count": 5,
     "metadata": {},
     "output_type": "execute_result"
    }
   ],
   "source": [
    "from nltk.corpus import stopwords\n",
    "nepali_stop_words = stopwords.words('nepali')\n",
    "len(nepali_stop_words)"
   ]
  },
  {
   "cell_type": "code",
   "execution_count": 12,
   "metadata": {},
   "outputs": [
    {
     "data": {
      "text/plain": [
       "['छ', 'र', 'पनि', 'छन्', 'लागि', 'भएको', 'गरेको', 'भने', 'गर्न', 'गर्ने']"
      ]
     },
     "execution_count": 12,
     "metadata": {},
     "output_type": "execute_result"
    }
   ],
   "source": [
    "nepali_stop_words[:10]"
   ]
  },
  {
   "cell_type": "code",
   "execution_count": 13,
   "metadata": {},
   "outputs": [],
   "source": [
    "def remove_numerals_stop_words(text,numerals, stop_words):\n",
    "    #remove numerals nepali\n",
    "    for numeral in numerals:\n",
    "        text = text.replace(numeral,'')\n",
    "\n",
    "    #tokenize text\n",
    "    words = text.split()\n",
    "\n",
    "    #remove stop words\n",
    "    words = [word for word in words if word not in stop_words]\n",
    "\n",
    "    #join the words back into a string\n",
    "    cleaned_text = ''.join(words)\n",
    "\n",
    "    return cleaned_text"
   ]
  },
  {
   "cell_type": "code",
   "execution_count": 25,
   "metadata": {},
   "outputs": [],
   "source": [
    "input_file = 'whole_corpus_processed.txt'\n",
    "output_file = 'Cleaned_File/final_json_corpus.txt'"
   ]
  },
  {
   "cell_type": "code",
   "execution_count": 15,
   "metadata": {},
   "outputs": [],
   "source": [
    "#reading input file\n",
    "with open(input_file,'r',encoding='utf-8') as f:\n",
    "    text = f.read()\n",
    "    "
   ]
  },
  {
   "cell_type": "code",
   "execution_count": 16,
   "metadata": {},
   "outputs": [],
   "source": [
    "#clean the text\n",
    "cleaned_text =remove_numerals_stop_words(text,nepali_numerals,nepali_stop_words)"
   ]
  },
  {
   "cell_type": "code",
   "execution_count": 20,
   "metadata": {},
   "outputs": [
    {
     "name": "stdout",
     "output_type": "stream",
     "text": [
      "The length of original text: 44664033\n",
      "The length of cleaned text : 33610093\n"
     ]
    }
   ],
   "source": [
    "print(f\"The length of original text: {len(text)}\\nThe length of cleaned text : {len(cleaned_text)}\")"
   ]
  },
  {
   "cell_type": "code",
   "execution_count": 26,
   "metadata": {},
   "outputs": [
    {
     "name": "stdout",
     "output_type": "stream",
     "text": [
      "cleaned text saved to Cleaned_File/final_json_corpus.txt\n"
     ]
    }
   ],
   "source": [
    "# Save the cleaned text \n",
    "with open(output_file,'w',encoding='utf-8') as f:\n",
    "    f.write(cleaned_text)\n",
    "print(f\"cleaned text saved to {output_file}\")"
   ]
  },
  {
   "cell_type": "markdown",
   "metadata": {},
   "source": [
    "# Concatenating and Cleaning the 20 categories datasets"
   ]
  },
  {
   "cell_type": "code",
   "execution_count": 45,
   "metadata": {},
   "outputs": [],
   "source": [
    "import os\n",
    "import re\n",
    "\n",
    "# Define a function to clean the text\n",
    "def clean_nepali_text(text):\n",
    "    # Remove non-Nepali characters and punctuation\n",
    "    cleaned_text = re.sub(r'[^\\u0900-\\u097F\\s]', '', text)\n",
    "    # Replace multiple spaces with a single space\n",
    "    text = re.sub(r'\\s+', ' ', text)\n",
    "    # Strip leading and trailing whitespace\n",
    "    text = text.strip()\n",
    "    return cleaned_text\n"
   ]
  },
  {
   "cell_type": "code",
   "execution_count": 28,
   "metadata": {},
   "outputs": [],
   "source": [
    "base_folder = 'D:/Major Project/datasets/kag_data/nepali_news_dataset_20_categories_large/nepali_news_dataset_20_categories_large'  \n",
    "output_file = 'combined_kaggle_cleaned_corpus.txt'\n"
   ]
  },
  {
   "cell_type": "code",
   "execution_count": 46,
   "metadata": {},
   "outputs": [],
   "source": [
    "\n",
    "# Initialize an empty list to store all cleaned text\n",
    "combined_corpus = []\n",
    "\n",
    "# Walk through all directories and files\n",
    "for foldername, subfolders, filenames in os.walk(base_folder):   \n",
    "    for filename in filenames:\n",
    "        if filename.endswith('.txt'):\n",
    "            file_path = os.path.join(foldername, filename)\n",
    "            try:\n",
    "                with open(file_path, 'r', encoding='utf-8') as file:\n",
    "                    text = file.read()\n",
    "            except UnicodeDecodeError:\n",
    "                try:\n",
    "                    with open(file_path, 'r', encoding='latin1') as file:\n",
    "                        text = file.read()\n",
    "                except UnicodeDecodeError:\n",
    "                    continue  # Skip files that cannot be decoded\n",
    "            cleaned_text = clean_nepali_text(text)\n",
    "            combined_corpus.append(cleaned_text)\n"
   ]
  },
  {
   "cell_type": "code",
   "execution_count": 48,
   "metadata": {},
   "outputs": [
    {
     "data": {
      "text/plain": [
       "15144405"
      ]
     },
     "execution_count": 48,
     "metadata": {},
     "output_type": "execute_result"
    }
   ],
   "source": [
    "s"
   ]
  },
  {
   "cell_type": "code",
   "execution_count": 52,
   "metadata": {},
   "outputs": [
    {
     "name": "stdout",
     "output_type": "stream",
     "text": [
      "Combined cleaned corpus saved to combined_kaggle_cleaned_corpus.txt\n"
     ]
    }
   ],
   "source": [
    "\n",
    "# Join all cleaned texts into a single string\n",
    "final_corpus = '\\n'.join(combined_corpus)\n",
    "\n",
    "# Save the combined cleaned corpus to a new file\n",
    "with open(output_file, 'w', encoding='utf-8') as file:\n",
    "    file.write(final_corpus)\n",
    "\n",
    "print(f\"Combined cleaned corpus saved to {output_file}\")\n"
   ]
  },
  {
   "cell_type": "code",
   "execution_count": 54,
   "metadata": {},
   "outputs": [
    {
     "data": {
      "text/plain": [
       "15151377"
      ]
     },
     "execution_count": 54,
     "metadata": {},
     "output_type": "execute_result"
    }
   ],
   "source": [
    "len(final_corpus)"
   ]
  },
  {
   "cell_type": "code",
   "execution_count": 55,
   "metadata": {},
   "outputs": [],
   "source": [
    "with open('combined_kaggle_cleaned_corpus.txt','r',encoding='utf-8') as f:\n",
    "    kag_corpus=f.read()"
   ]
  },
  {
   "cell_type": "code",
   "execution_count": 57,
   "metadata": {},
   "outputs": [],
   "source": [
    "cleaned_kaggle_text = remove_numerals_stop_words(kag_corpus,nepali_numerals, nepali_stop_words)"
   ]
  },
  {
   "cell_type": "code",
   "execution_count": 58,
   "metadata": {},
   "outputs": [
    {
     "data": {
      "text/plain": [
       "9202369"
      ]
     },
     "execution_count": 58,
     "metadata": {},
     "output_type": "execute_result"
    }
   ],
   "source": [
    "len(cleaned_kaggle_text)"
   ]
  },
  {
   "cell_type": "code",
   "execution_count": 64,
   "metadata": {},
   "outputs": [
    {
     "name": "stdout",
     "output_type": "stream",
     "text": [
      "The length of original text: 15151377\n",
      "The length of cleaned text : 9202369\n"
     ]
    }
   ],
   "source": [
    "print(f\"The length of original text: {len(kag_corpus)}\\nThe length of cleaned text : {len(cleaned_kaggle_text)}\")"
   ]
  },
  {
   "cell_type": "code",
   "execution_count": 63,
   "metadata": {},
   "outputs": [
    {
     "name": "stdout",
     "output_type": "stream",
     "text": [
      "cleaned text saved to Cleaned_File/final_kaggle_corpus.txt\n"
     ]
    }
   ],
   "source": [
    "output = 'Cleaned_File/final_kaggle_corpus.txt'\n",
    "# Save the cleaned text \n",
    "with open(output,'w',encoding='utf-8') as f:\n",
    "    f.write(cleaned_kaggle_text)\n",
    "print(f\"cleaned text saved to {output}\")"
   ]
  },
  {
   "cell_type": "code",
   "execution_count": null,
   "metadata": {},
   "outputs": [],
   "source": []
  }
 ],
 "metadata": {
  "kernelspec": {
   "display_name": "spell_checker_project",
   "language": "python",
   "name": "python3"
  },
  "language_info": {
   "codemirror_mode": {
    "name": "ipython",
    "version": 3
   },
   "file_extension": ".py",
   "mimetype": "text/x-python",
   "name": "python",
   "nbconvert_exporter": "python",
   "pygments_lexer": "ipython3",
   "version": "3.12.4"
  }
 },
 "nbformat": 4,
 "nbformat_minor": 2
}
